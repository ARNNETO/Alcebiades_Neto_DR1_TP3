{
 "cells": [
  {
   "cell_type": "markdown",
   "metadata": {},
   "source": [
    "### 1) Explicação do Objetivo e Motivação:\n",
    "#### Explique o objetivo do dashboard que você está desenvolvendo e a motivação por trás da escolha dos dados e funcionalidades que serão implementados."
   ]
  },
  {
   "cell_type": "markdown",
   "metadata": {},
   "source": [
    "O objetivo deste dashboard é capacitar o usuário com conhecimento e insights ao inserir sua base de dados, direcionando-o para seu objetivo."
   ]
  },
  {
   "cell_type": "markdown",
   "metadata": {},
   "source": [
    "### 2) Realizar Upload de Arquivo CSV:\n",
    "#### Crie uma interface em Streamlit que permita ao usuário fazer o upload de um arquivo CSV contendo dados de turismo do portal Data.Rio."
   ]
  },
  {
   "cell_type": "code",
   "execution_count": null,
   "metadata": {},
   "outputs": [],
   "source": [
    "#importa biblioteca\n",
    "import streamlit as st\n",
    "\n",
    "# Cria função para carregar dados\n",
    "def load_data(file):\n",
    "    df = pd.read_csv(file)\n",
    "    df = df.dropna(how='all')\n",
    "    return df\n",
    "\n",
    "st.title('Carregue seu arquivo aqui')\n",
    "file = st.file_uploader('Carregue seu arquivo aqui', type=['csv'])\n",
    "\n",
    "# Le o arquivo CSV\n",
    "df = load_data(file)\n",
    "\n",
    "# Mostra as primeiras linhas do arquivo carregado\n",
    "st.write(\"Dados carregados:\")\n",
    "st.write(df.head())"
   ]
  },
  {
   "cell_type": "markdown",
   "metadata": {},
   "source": [
    "### 3) Filtro de Dados e Seleção:\n",
    "#### Implemente seletores (radio, checkbox, dropdowns) na interface que permitam ao usuário filtrar os dados carregados e selecionar as colunas ou linhas que deseja visualizar."
   ]
  },
  {
   "cell_type": "code",
   "execution_count": null,
   "metadata": {},
   "outputs": [],
   "source": [
    "# Filtra os dados por coluna específica (dropdown)\n",
    "st.write(\"Filtrar os dados por uma coluna específica:\")\n",
    "column_to_filter = st.selectbox(\"Selecione a coluna para aplicar o filtro\", df.columns)\n",
    "\n",
    "# Cria seletor radio buton para filtrar valor específico\n",
    "unique_values = df[column_to_filter].unique()\n",
    "selected_value = st.radio(f\"Selecione o valor de {column_to_filter} para filtrar\", unique_values)\n",
    "\n",
    "# Aplica o filtro no DataFrame\n",
    "df_filtered = df[df[column_to_filter] == selected_value]\n",
    "\n",
    "st.write(f\"Dados filtrados por {column_to_filter} = {selected_value}:\")\n",
    "st.write(df_filtered.head())\n",
    "\n",
    "# Cria  lista de checkbox para selecionar colunas\n",
    "st.write(\"Selecione as colunas que você quer visualizar:\")\n",
    "selected_columns = []"
   ]
  },
  {
   "cell_type": "markdown",
   "metadata": {},
   "source": [
    "### 4) Desenvolver Serviço de Download de Arquivos:\n",
    "#### Implemente um serviço que permita ao usuário fazer o download dos dados filtrados em formato CSV diretamente pela interface da aplicação."
   ]
  },
  {
   "cell_type": "code",
   "execution_count": null,
   "metadata": {},
   "outputs": [],
   "source": [
    "# Botão para download do CSV\n",
    "st.download_button(\n",
    "    label=\"Baixar dados filtrados em CSV\",\n",
    "    data=csv,\n",
    "    file_name='dados_filtrados.csv',\n",
    "    mime='text/csv',\n",
    ")\n"
   ]
  },
  {
   "cell_type": "markdown",
   "metadata": {},
   "source": [
    "### 5) Utilizar Barra de Progresso e Spinners:\n",
    "##### Adicione uma barra de progresso e um spinner para indicar o carregamento dos dados enquanto o arquivo CSV é processado e exibido na interface."
   ]
  },
  {
   "cell_type": "code",
   "execution_count": null,
   "metadata": {},
   "outputs": [],
   "source": [
    "# Importa biblioteca\n",
    "import time\n",
    "\n",
    "# Cria a barra de progresso e o spinner\n",
    "if file is not None:\n",
    "    st.write('Carregando os dados...')\n",
    "    progress_bar = st.progress(0)\n",
    "    for counter in range(1,101):\n",
    "        time.sleep(0.04)\n",
    "        progress_bar.progress(counter)\n",
    "\n",
    "    with st.spinner('Processando os dados...'):\n",
    "        time.sleep(3)\n",
    "        progress_bar.progress(3)\n"
   ]
  },
  {
   "cell_type": "markdown",
   "metadata": {},
   "source": [
    "### 6) Utilizar Color Picker:\n",
    "Adicione um color picker à interface que permita ao usuário personalizar a cor de fundo do painel e das fontes exibidas na aplicação."
   ]
  },
  {
   "cell_type": "code",
   "execution_count": null,
   "metadata": {},
   "outputs": [],
   "source": [
    "# Cria a lista de cores\n",
    "back_color = st.selectbox('Escolha uma cor para alterar o fundo do seu painel',['Preto', \n",
    "                                                                                'Branco', \n",
    "                                                                                'Vermelho', \n",
    "                                                                                'Verde', 'Azul', \n",
    "                                                                                'Amarelo', 'Ciano', \n",
    "                                                                                'Magenta', \n",
    "                                                                                'Cinza',\n",
    "                                                                                'Laranja'])\n",
    "# Cria a lista com os códigos das cores\n",
    "colors_code = {\n",
    "    'Preto': '#000000',\n",
    "    'Branco': '#FFFFFF',\n",
    "    'Vermelho': '#FF0000',\n",
    "    'Verde': '#00FF00',\n",
    "    'Azul': '#0000FF',\n",
    "    'Amarelo': '#FFFF00',\n",
    "    'Ciano': '#00FFFF',\n",
    "    'Magenta': '#FF00FF',\n",
    "    'Cinza': '#808080',\n",
    "    'Laranja': '#FFA500'\n",
    "}\n",
    "\n",
    "# Aplica a cor de fundo\n",
    "st.markdown(\n",
    "    f\"\"\"\n",
    "    <style>\n",
    "    .stApp {{\n",
    "        background-color: {colors_code[back_color]};\n",
    "           }}\n",
    "    </style>\n",
    "    \"\"\",\n",
    "    unsafe_allow_html=True\n",
    ")\n"
   ]
  },
  {
   "cell_type": "markdown",
   "metadata": {},
   "source": [
    "### 7) Utilizar Funcionalidade de Cache:\n",
    "#### Utilize a funcionalidade de cache do Streamlit para armazenar os dados carregados de grandes arquivos CSV, evitando a necessidade de recarregá-los a cada nova interação."
   ]
  },
  {
   "cell_type": "code",
   "execution_count": null,
   "metadata": {},
   "outputs": [],
   "source": [
    "# Cria função para carregar dados com cache\n",
    "@st.cache_data\n",
    "def load_data(file):\n",
    "    df = pd.read_csv(file)\n",
    "    df = df.dropna(how='all')\n",
    "    return df\n"
   ]
  },
  {
   "cell_type": "markdown",
   "metadata": {},
   "source": [
    "### 8) Persistir Dados Usando Session State:\n",
    "#### Implemente a persistência de dados na aplicação utilizando Session State para manter as preferências do usuário (como filtros e seleções) durante a navegação."
   ]
  },
  {
   "cell_type": "code",
   "execution_count": null,
   "metadata": {},
   "outputs": [],
   "source": [
    "# Cria persistência de dados para as seleções de cores, filtros e colunas\n",
    "if 'back_color' not in st.session_state:\n",
    "    st.session_state['back_color'] = 'Branco'\n",
    "\n",
    "if 'column_to_filter' not in st.session_state:\n",
    "    st.session_state['column_to_filter'] = None\n",
    "\n",
    "if 'selected_value' not in st.session_state:\n",
    "    st.session_state['selected_value'] = None\n",
    "\n",
    "if 'selected_columns' not in st.session_state:\n",
    "    st.session_state['selected_columns'] = []"
   ]
  },
  {
   "cell_type": "markdown",
   "metadata": {},
   "source": [
    "### 9) Criar Visualizações de Dados - Tabelas:\n",
    "#### Crie uma tabela interativa que exiba os dados carregados e permita ao usuário ordenar e filtrar as colunas diretamente pela interface."
   ]
  },
  {
   "cell_type": "code",
   "execution_count": null,
   "metadata": {},
   "outputs": [],
   "source": [
    "# Le o arquivo CSV\n",
    "df = load_data(file)\n",
    "\n",
    "# Exibe a tabela interativa\n",
    "st.write(\"### Tabela Com Dados Carregados\")\n",
    "st.dataframe(df)  "
   ]
  },
  {
   "cell_type": "markdown",
   "metadata": {},
   "source": [
    "### 10) Criar Visualizações de Dados - Gráficos Simples:\n",
    "#### Desenvolva gráficos simples (como barras, linhas, e pie charts) para visualização dos dados carregados, utilizando o Streamlit."
   ]
  },
  {
   "cell_type": "code",
   "execution_count": null,
   "metadata": {},
   "outputs": [],
   "source": [
    "# Cria seleção de gráficos\n",
    "chart_type = st.selectbox(\"Escolha o tipo de gráfico\", [\"Gráfico de Barras\", \"Gráfico de Linhas\", \"Gráfico de Pizza\"])\n",
    "\n",
    "# Se for um gráfico de barras ou linhas, escolhe a coluna para o eixo Y\n",
    "if chart_type in [\"Gráfico de Barras\", \"Gráfico de Linhas\"]:\n",
    "\ty_column = st.selectbox(\"Selecione a coluna para o eixo Y\", df.columns)\n",
    "\n",
    "# Cria o gráfico de acordo com o tipo selecionado\n",
    "if chart_type == \"Gráfico de Barras\":\n",
    "\tfig, ax = plt.subplots()\n",
    "\tax.bar(df_final[column_to_filter], df_final[y_column], color='skyblue')\n",
    "\tax.set_xlabel(column_to_filter)\n",
    "\tax.set_ylabel(y_column)\n",
    "\tax.set_title(f\"Gráfico de Barras: {column_to_filter} vs {y_column}\")\n",
    "\tst.pyplot(fig)\n",
    "\n",
    "elif chart_type == \"Gráfico de Linhas\":\n",
    "\tfig, ax = plt.subplots()\n",
    "\tax.plot(df_final[column_to_filter], df_final[y_column], marker='o', color='green')\n",
    "\tax.set_xlabel(column_to_filter)\n",
    "\tax.set_ylabel(y_column)\n",
    "\tax.set_title(f\"Gráfico de Linhas: {column_to_filter} vs {y_column}\")\n",
    "\tst.pyplot(fig)\n",
    "\n",
    "elif chart_type == \"Gráfico de Pizza\":\n",
    "\tfig, ax = plt.subplots()\n",
    "\tsizes = df_final[column_to_filter].value_counts()\n",
    "\tax.pie(sizes, labels=sizes.index, autopct='%1.1f%%', startangle=90, colors=plt.cm.Paired.colors)\n",
    "\tax.axis('equal')\n",
    "\tax.set_title(f\"Gráfico de Pizza: Distribuição de {column_to_filter}\")\n",
    "\tst.pyplot(fig)\n"
   ]
  },
  {
   "cell_type": "markdown",
   "metadata": {},
   "source": [
    "### 11) Criar Visualizações de Dados - Gráficos Avançados:\n",
    "#### Adicione gráficos mais avançados (como histograma ou scatter plot) para fornecer insights mais profundos sobre os dados.\n"
   ]
  },
  {
   "cell_type": "code",
   "execution_count": null,
   "metadata": {},
   "outputs": [],
   "source": [
    "elif chart_type == \"Histograma\":\n",
    "    fig, ax = plt.subplots()\n",
    "    ax.hist(df_final[y_column], bins=20, color='purple', edgecolor='black')\n",
    "    ax.set_xlabel(y_column)\n",
    "    ax.set_title(f\"Histograma de {y_column}\")\n",
    "    st.pyplot(fig)"
   ]
  },
  {
   "cell_type": "markdown",
   "metadata": {},
   "source": [
    "### 12) Exibir Métricas Básicas:\n",
    "#### Implemente a exibição de métricas básicas (como contagem de registros, médias, somas) diretamente na interface para fornecer um resumo rápido dos dados carregados."
   ]
  },
  {
   "cell_type": "code",
   "execution_count": null,
   "metadata": {},
   "outputs": [],
   "source": [
    "# Exibe métricas \n",
    "st.write(\"### Métricas Básicas dos Dados\")\n",
    "\n",
    "# Mostra contagem total de registros\n",
    "st.metric(label=\"Contagem de Registros\", value=len(df))\n",
    "\n",
    "# Mostra soma e média das colunas numéricas (se houver)\n",
    "numeric_cols = df.select_dtypes(include=['float64', 'int64']).columns\n",
    "if not numeric_cols.empty:\n",
    "    for col in numeric_cols:\n",
    "        col_sum = df[col].sum()\n",
    "        col_mean = df[col].mean()\n",
    "        st.metric(label=f\"Soma da coluna {col}\", value=col_sum)\n",
    "        st.metric(label=f\"Média da coluna {col}\", value=col_mean)\n",
    "else:\n",
    "    st.write(\"Não há colunas numéricas para exibir métricas.\")"
   ]
  }
 ],
 "metadata": {
  "kernelspec": {
   "display_name": "dr1_tp3",
   "language": "python",
   "name": "python3"
  },
  "language_info": {
   "codemirror_mode": {
    "name": "ipython",
    "version": 3
   },
   "file_extension": ".py",
   "mimetype": "text/x-python",
   "name": "python",
   "nbconvert_exporter": "python",
   "pygments_lexer": "ipython3",
   "version": "3.12.4"
  }
 },
 "nbformat": 4,
 "nbformat_minor": 2
}
